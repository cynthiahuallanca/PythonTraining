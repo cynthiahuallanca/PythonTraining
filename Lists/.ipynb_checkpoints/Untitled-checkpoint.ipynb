{
 "cells": [
  {
   "cell_type": "markdown",
   "metadata": {},
   "source": [
    "General basic functions examples "
   ]
  },
  {
   "cell_type": "code",
   "execution_count": 39,
   "metadata": {},
   "outputs": [
    {
     "data": {
      "text/plain": [
       "True"
      ]
     },
     "execution_count": 39,
     "metadata": {},
     "output_type": "execute_result"
    }
   ],
   "source": [
    "# Function to review if a letter/word is contained in another\n",
    "# Improve: function should consider upper/lower cases\n",
    "def contains(big_string, little_string):\n",
    " return little_string in big_string\n",
    "\n",
    "contains('mickey', 'mic')"
   ]
  },
  {
   "cell_type": "code",
   "execution_count": 4,
   "metadata": {},
   "outputs": [
    {
     "data": {
      "text/plain": [
       "['C', 'n', 'i']"
      ]
     },
     "execution_count": 4,
     "metadata": {},
     "output_type": "execute_result"
    }
   ],
   "source": [
    "# Function of common letters between two words \n",
    "def common_letters(string_one, string_two):\n",
    "  common_list =[]\n",
    "  for a in string_one:\n",
    "    if (a in string_two) and not (a in common_list):\n",
    "        common_list.append(a)\n",
    "  return common_list\n",
    "\n",
    "common_letters(\"Cynthia\", \"Coding\")"
   ]
  },
  {
   "cell_type": "code",
   "execution_count": 6,
   "metadata": {},
   "outputs": [
    {
     "name": "stdout",
     "output_type": "stream",
     "text": [
      "Your user name is: CynHual\n",
      "Your password is: lCynHua\n"
     ]
    }
   ],
   "source": [
    "# Functions to generate username and password \n",
    "def username_generator(first_name,last_name):\n",
    "  if (len(first_name) < 3) or (len(last_name) < 4):\n",
    "    username =  first_name + last_name\n",
    "  else:  \n",
    "    username = first_name[:3] + last_name[:4]\n",
    "  return username\n",
    "\n",
    "def password_generator(user_name):\n",
    "  password = ''\n",
    "  for i in range(0, len(user_name)):\n",
    "    password += user_name[i-1]\n",
    "  return password\n",
    "\n",
    "username = username_generator('Cynthia','Huallanca')\n",
    "print('Your user name is: ' + username )\n",
    "\n",
    "password = password_generator(username)\n",
    "print ('Your password is: ' + password )"
   ]
  },
  {
   "cell_type": "code",
   "execution_count": 7,
   "metadata": {},
   "outputs": [
    {
     "name": "stdout",
     "output_type": "stream",
     "text": [
      "Upper function: HELLO WORLD\n",
      "Lower function: hello world\n",
      "Title function: Hello World\n",
      "['Hello', 'world']\n",
      "Helloworld\n",
      "Hella warld\n",
      "Hello world\n",
      "Hello world\n"
     ]
    }
   ],
   "source": [
    "# General string functions\n",
    "print('Upper function: ' + 'Hello world'.upper())\n",
    "print('Lower function: ' + 'Hello world'.lower())\n",
    "print('Title function: ' + 'Hello world'.title()) \n",
    "print('Hello world'.split())\n",
    "print(''.join(['Hello','world']))\n",
    "print('Hello world'.replace('o','a'))\n",
    "print('   Hello world   '.strip())\n",
    "print('{} {}'.format('Hello','world'))"
   ]
  },
  {
   "cell_type": "code",
   "execution_count": 10,
   "metadata": {},
   "outputs": [
    {
     "name": "stdout",
     "output_type": "stream",
     "text": [
      "['\\nAudre Lorde', 'Gabriela Mistral', 'Jean Toomer', 'An Qi', 'Walt Whitman', 'Shel Silverstein', 'Carmen Boullosa', ' \\nKamala Suraiyya', 'Langston Hughes', 'Adrienne Rich', 'Nikki Giovanni ']\n",
      "['Lorde', 'Mistral', 'Toomer', 'Qi', 'Whitman', 'Silverstein', 'Boullosa', 'Suraiyya', 'Hughes', 'Rich', 'Giovanni']\n"
     ]
    }
   ],
   "source": [
    "# Split function\n",
    "authors = '''\n",
    "Audre Lorde,Gabriela Mistral,Jean Toomer,\n",
    "An Qi,Walt Whitman,Shel Silverstein,Carmen Boullosa, \n",
    "Kamala Suraiyya,Langston Hughes,Adrienne Rich,Nikki Giovanni '''\n",
    "\n",
    "author_names = authors.split(',')\n",
    "\n",
    "print(author_names)\n",
    "\n",
    "author_last_names = []\n",
    "for name in author_names:\n",
    "  author_last_names.append(name.split()[-1])\n",
    "  \n",
    "print(author_last_names)"
   ]
  },
  {
   "cell_type": "code",
   "execution_count": 42,
   "metadata": {},
   "outputs": [
    {
     "name": "stdout",
     "output_type": "stream",
     "text": [
      "['And if you said, \"This life ain\\'t good enough.\"', 'I would give my world to lift you up', 'I could change my life to better suit your mood', \"Because you're so smooth\"]\n"
     ]
    }
   ],
   "source": [
    "smooth_chorus = \\\n",
    "\"\"\"And if you said, \"This life ain't good enough.\"\n",
    "I would give my world to lift you up\n",
    "I could change my life to better suit your mood\n",
    "Because you're so smooth\"\"\"\n",
    " \n",
    "chorus_lines = smooth_chorus.split('\\n')\n",
    " \n",
    "print(chorus_lines)"
   ]
  },
  {
   "cell_type": "code",
   "execution_count": 44,
   "metadata": {},
   "outputs": [
    {
     "name": "stdout",
     "output_type": "stream",
     "text": [
      "Black reapers with the sound of steel on stones\n"
     ]
    }
   ],
   "source": [
    "# Join Fuction\n",
    "reapers_line_one_words = [\"Black\", \"reapers\", \"with\", \"the\", \"sound\", \"of\", \"steel\", \"on\", \"stones\"]\n",
    "\n",
    "reapers_line_one = ' '.join(reapers_line_one_words)\n",
    "print(reapers_line_one)"
   ]
  },
  {
   "cell_type": "code",
   "execution_count": 11,
   "metadata": {},
   "outputs": [
    {
     "name": "stdout",
     "output_type": "stream",
     "text": [
      "All the complicated details\n",
      "of the attiring and\n",
      "the disattiring are completed!\n",
      "A liquid moon\n",
      "moves gently among\n",
      "the long branches.\n",
      "Thus having prepared their buds\n",
      "against a sure winter\n",
      "the wise trees\n",
      "stand sleeping in the cold.\n"
     ]
    }
   ],
   "source": [
    "winter_trees_lines = ['All the complicated details', 'of the attiring and', \n",
    "                      'the disattiring are completed!', 'A liquid moon', \n",
    "                      'moves gently among', 'the long branches.', 'Thus having prepared their buds', \n",
    "                      'against a sure winter', 'the wise trees', 'stand sleeping in the cold.']\n",
    "\n",
    "winter_trees_full = '\\n'.join(winter_trees_lines) \n",
    "\n",
    "print(winter_trees_full)"
   ]
  },
  {
   "cell_type": "code",
   "execution_count": 13,
   "metadata": {},
   "outputs": [
    {
     "name": "stdout",
     "output_type": "stream",
     "text": [
      "['Always', 'in the middle of our bloodiest battles', 'you lay down your arms', 'like flowering mines', '', 'to conquer me home.']\n",
      "Always\n",
      "in the middle of our bloodiest battles\n",
      "you lay down your arms\n",
      "like flowering mines\n",
      "\n",
      "to conquer me home.\n"
     ]
    }
   ],
   "source": [
    "# Append function\n",
    "love_maybe_lines = ['Always    ', \n",
    "                    '     in the middle of our bloodiest battles  ', \n",
    "                    'you lay down your arms', '           like flowering mines    ',\n",
    "                    '\\n' ,'   to conquer me home.    ']\n",
    "\n",
    "\n",
    "love_maybe_lines_stripped =[]\n",
    "for word in love_maybe_lines: \n",
    "  love_maybe_lines_stripped.append(word.strip())\n",
    "print(love_maybe_lines_stripped)\n",
    "\n",
    "love_maybe_full = '\\n'.join(love_maybe_lines_stripped) \n",
    "print(love_maybe_full)"
   ]
  },
  {
   "cell_type": "code",
   "execution_count": 14,
   "metadata": {},
   "outputs": [
    {
     "name": "stdout",
     "output_type": "stream",
     "text": [
      "20\n"
     ]
    }
   ],
   "source": [
    "# Find function\n",
    "god_wills_it_line_one = \"The very earth will disown you\"\n",
    "\n",
    "disown_placement = god_wills_it_line_one.find('disown')\n",
    "print(disown_placement)"
   ]
  },
  {
   "cell_type": "code",
   "execution_count": 15,
   "metadata": {},
   "outputs": [
    {
     "name": "stdout",
     "output_type": "stream",
     "text": [
      "The poem \"I Hear America Singing\" is written by Walt Whitman.\n"
     ]
    }
   ],
   "source": [
    "# Format function\n",
    "def poem_title_card(title,poet):\n",
    "  phrase = 'The poem \"{}\" is written by {}.'.format(title, poet) \n",
    "  return phrase\n",
    "\n",
    "print(poem_title_card(\"I Hear America Singing\", \"Walt Whitman\"))"
   ]
  },
  {
   "cell_type": "code",
   "execution_count": 16,
   "metadata": {},
   "outputs": [
    {
     "name": "stdout",
     "output_type": "stream",
     "text": [
      "The poem My Beard by Shel Silverstein was originally published in Where the Sidewalk Ends in 1974.\n"
     ]
    }
   ],
   "source": [
    "def poem_description(publishing_date, author, title, original_work):\n",
    "  poem_desc = \"The poem {title} by {author} was originally published in {original_work} in {publishing_date}.\".format(publishing_date = publishing_date, author = author, title = title, original_work = original_work)\n",
    "  return poem_desc\n",
    "\n",
    "my_beard_description = poem_description(author = \"Shel Silverstein\", title = \"My Beard\", original_work = \"Where the Sidewalk Ends\", \n",
    "publishing_date = \"1974\")\n",
    "print(my_beard_description)"
   ]
  },
  {
   "cell_type": "code",
   "execution_count": 17,
   "metadata": {},
   "outputs": [
    {
     "name": "stdout",
     "output_type": "stream",
     "text": [
      "[['Afterimages', 'Audre Lorde', '1997'], ['The Shadow', 'William Carlos Williams', '1915'], ['Ecstasy', 'Gabriela Mistral', '1925'], ['Georgia Dusk', 'Jean Toomer', '1923'], ['Parting Before Daybreak', 'An Qi', '2014'], ['The Untold Want', 'Walt Whitman', '1871'], [\"Mr. Grumpledump's Song\", 'Shel Silverstein', '2004'], ['Angel Sound Mexico City', 'Carmen Boullosa', '2013'], ['In Love', 'Kamala Suraiyya', '1965'], ['Dream Variations', 'Langston Hughes', '1994'], ['Dreamwood', 'Adrienne Rich', '1987']]\n",
      "['Afterimages', 'The Shadow', 'Ecstasy', 'Georgia Dusk', 'Parting Before Daybreak', 'The Untold Want', \"Mr. Grumpledump's Song\", 'Angel Sound Mexico City', 'In Love', 'Dream Variations', 'Dreamwood']\n",
      "['Audre Lorde', 'William Carlos Williams', 'Gabriela Mistral', 'Jean Toomer', 'An Qi', 'Walt Whitman', 'Shel Silverstein', 'Carmen Boullosa', 'Kamala Suraiyya', 'Langston Hughes', 'Adrienne Rich']\n",
      "['1997', '1915', '1925', '1923', '2014', '1871', '2004', '2013', '1965', '1994', '1987']\n",
      "The poem Afterimages was published by Audre Lorde in 1997\n",
      "The poem The Shadow was published by William Carlos Williams in 1915\n",
      "The poem Ecstasy was published by Gabriela Mistral in 1925\n",
      "The poem Georgia Dusk was published by Jean Toomer in 1923\n",
      "The poem Parting Before Daybreak was published by An Qi in 2014\n",
      "The poem The Untold Want was published by Walt Whitman in 1871\n",
      "The poem Mr. Grumpledump's Song was published by Shel Silverstein in 2004\n",
      "The poem Angel Sound Mexico City was published by Carmen Boullosa in 2013\n",
      "The poem In Love was published by Kamala Suraiyya in 1965\n",
      "The poem Dream Variations was published by Langston Hughes in 1994\n",
      "The poem Dreamwood was published by Adrienne Rich in 1987\n"
     ]
    }
   ],
   "source": [
    "highlighted_poems = \"Afterimages:Audre Lorde:1997,  The Shadow:William Carlos Williams:1915, Ecstasy:Gabriela Mistral:1925,   Georgia Dusk:Jean Toomer:1923,   Parting Before Daybreak:An Qi:2014, The Untold Want:Walt Whitman:1871, Mr. Grumpledump's Song:Shel Silverstein:2004, Angel Sound Mexico City:Carmen Boullosa:2013, In Love:Kamala Suraiyya:1965, Dream Variations:Langston Hughes:1994, Dreamwood:Adrienne Rich:1987\"\n",
    "\n",
    "highlighted_poems_list = highlighted_poems.split(',')\n",
    "\n",
    "\n",
    "highlighted_poems_stripped = []\n",
    "for word in highlighted_poems_list: \n",
    "  highlighted_poems_stripped.append(word.strip())\n",
    "\n",
    "highlighted_poems_details = []\n",
    "for phrase in highlighted_poems_stripped:\n",
    "  highlighted_poems_details.append(phrase.split(':'))\n",
    "print(highlighted_poems_details)\n",
    "\n",
    "titles = []\n",
    "poets = []\n",
    "dates = []\n",
    "\n",
    "for lists in highlighted_poems_details:\n",
    "  titles.append(lists[0])\n",
    "  poets.append(lists[1])\n",
    "  dates.append(lists[2])\n",
    "print(titles)\n",
    "print(poets)\n",
    "print(dates)\n",
    "\n",
    "for i in range(0,len(highlighted_poems_details)):\n",
    "    print('The poem {} was published by {} in {}'.format(titles[i], poets[i], dates[i]))"
   ]
  },
  {
   "cell_type": "code",
   "execution_count": 40,
   "metadata": {},
   "outputs": [
    {
     "data": {
      "text/plain": [
       "'Mickey'"
      ]
     },
     "execution_count": 40,
     "metadata": {},
     "output_type": "execute_result"
    }
   ],
   "source": [
    "# Strip function\n",
    "user_name = \"::::::::Mickey :::::::::::\"\n",
    "user_name.strip(':').strip()"
   ]
  },
  {
   "cell_type": "code",
   "execution_count": 41,
   "metadata": {},
   "outputs": [
    {
     "name": "stdout",
     "output_type": "stream",
     "text": [
      "9\n",
      "5\n"
     ]
    }
   ],
   "source": [
    "# Function to find count of unique letters in a word\n",
    "letters = \"ABCDEFGHIJKLMNOPQRSTUVWXYZabcdefghijklmnopqrstuvwxyz\"\n",
    "\n",
    "def unique_english_letters(word):\n",
    "  uniques = 0\n",
    "  for letter in letters:\n",
    "    if letter in word:\n",
    "      uniques += 1\n",
    "  return uniques\n",
    "\n",
    "print(unique_english_letters(\"mickeymouse\"))\n",
    "print(unique_english_letters(\"mouse\"))"
   ]
  },
  {
   "cell_type": "code",
   "execution_count": 42,
   "metadata": {},
   "outputs": [
    {
     "name": "stdout",
     "output_type": "stream",
     "text": [
      "2\n"
     ]
    }
   ],
   "source": [
    "# Function to find count of certain letter in a word\n",
    "def count_char_x(word, x):\n",
    "  counter = 0  \n",
    "  for letter in word:\n",
    "        if letter == x:\n",
    "            counter += 1 \n",
    "  return counter\n",
    "                \n",
    "print(count_char_x('mickeymouse', 'm'))"
   ]
  },
  {
   "cell_type": "code",
   "execution_count": 50,
   "metadata": {},
   "outputs": [
    {
     "name": "stdout",
     "output_type": "stream",
     "text": [
      "2\n",
      "1\n"
     ]
    }
   ],
   "source": [
    "# Function that returns the number of times x appears in word but the function works when x is multiple characters long\n",
    "def count_multi_char_x(word, x):\n",
    "  splits = word.split(x)\n",
    "  return(len(splits)-1)\n",
    "\n",
    "print(count_multi_char_x(\"mickeymickey\", \"mi\"))\n",
    "print(count_multi_char_x(\"mouse\", \"ou\"))"
   ]
  },
  {
   "cell_type": "code",
   "execution_count": 49,
   "metadata": {},
   "outputs": [
    {
     "name": "stdout",
     "output_type": "stream",
     "text": [
      "i\n",
      "s\n"
     ]
    }
   ],
   "source": [
    "# Function that takes a string, a single character, and another character and return the substring between the first\n",
    "# occurrence of start and end in word. If start or end are not in word, the function returns the word\n",
    "def substring_between_letters(word,start,end):\n",
    "  if not (start in word) or not(end in word):\n",
    "    return word\n",
    "  else:\n",
    "    index1 = word.find(start)\n",
    "    index2 = word.find(end)\n",
    "    return word[index1+1:index2]\n",
    "     \n",
    "print(substring_between_letters(\"mickey\", \"m\", \"c\"))\n",
    "print(substring_between_letters(\"disney\", \"i\", \"n\"))"
   ]
  },
  {
   "cell_type": "code",
   "execution_count": 26,
   "metadata": {},
   "outputs": [
    {
     "name": "stdout",
     "output_type": "stream",
     "text": [
      "Would\n",
      "5\n"
     ]
    }
   ],
   "source": [
    "def x_length_words(sentence, x):\n",
    "  sentence_list = sentence.split() \n",
    "  for word in sentence_list: \n",
    "    print(word)    \n",
    "    if len(word) >= x:\n",
    "      return len(word)  \n",
    "      return True\n",
    "    else: \n",
    "      return len(word)\n",
    "      return False\n",
    "\n",
    "print(x_length_words(\"Would you like todo to Disney?\", 2))"
   ]
  },
  {
   "cell_type": "code",
   "execution_count": 27,
   "metadata": {},
   "outputs": [
    {
     "name": "stdout",
     "output_type": "stream",
     "text": [
      "True\n"
     ]
    }
   ],
   "source": [
    "def x_length_words(sentence, x):\n",
    "  sentence_list = sentence.split() \n",
    "  for word in sentence_list:\n",
    "    if len(word) < x:\n",
    "      return False\n",
    "  return True\n",
    "\n",
    "print(x_length_words(\"Would you like todo to Disney?\", 2))"
   ]
  },
  {
   "cell_type": "code",
   "execution_count": 47,
   "metadata": {},
   "outputs": [
    {
     "name": "stdout",
     "output_type": "stream",
     "text": [
      "True\n",
      "True\n",
      "False\n"
     ]
    }
   ],
   "source": [
    "# Function that takes two strings and returns True if name appears in sentence in all lowercase letters,\n",
    "# all uppercase letters, or with any mix of uppercase and lowercase letters\n",
    "def check_for_name(sentence, name): \n",
    "  sentence_clean = sentence.lower()\n",
    "  name_clean = name.lower()\n",
    "  if name_clean in sentence_clean:\n",
    "    return True\n",
    "  else:\n",
    "    return False\n",
    "\n",
    "print(check_for_name(\"My name is Mickey\", \"Mickey\"))\n",
    "print(check_for_name(\"My name is mickey\", \"Mickey\"))\n",
    "print(check_for_name(\"My name is Cynthia\", \"Mickey\"))"
   ]
  },
  {
   "cell_type": "code",
   "execution_count": 44,
   "metadata": {},
   "outputs": [
    {
     "name": "stdout",
     "output_type": "stream",
     "text": [
      "mue\n"
     ]
    }
   ],
   "source": [
    "def every_other_letter(word):\n",
    "  print(len(word)-1)\n",
    "  for i in range(0, len(word)-1):\n",
    "    if i % 2 == 0:\n",
    "        print('i: ' + str(i))\n",
    "        print (word[i])\n",
    "    else:\n",
    "        continue\n",
    "    \n",
    "def every_other_letter(word):\n",
    "  every_other = \"\"\n",
    "  for i in range(0, len(word), 2):\n",
    "    every_other += word[i]\n",
    "  return every_other\n",
    "\n",
    "\n",
    "print(every_other_letter(\"mouse\"))"
   ]
  },
  {
   "cell_type": "code",
   "execution_count": 46,
   "metadata": {},
   "outputs": [
    {
     "name": "stdout",
     "output_type": "stream",
     "text": [
      "esuoM\n",
      "esuoM\n"
     ]
    }
   ],
   "source": [
    "def reverse_string(word): \n",
    "    new_word = ''\n",
    "    for i in range(0, len(word)):\n",
    "        new_word += word[len(word)-1-i]\n",
    "    return new_word\n",
    "\n",
    "print(reverse_string(\"Mouse\"))\n",
    "\n",
    "# Option 2 \n",
    "def reverse_string2(word):\n",
    "  reverse = \"\"\n",
    "  for i in range(len(word)-1, -1, -1):\n",
    "    reverse += word[i]\n",
    "  return reverse\n",
    "\n",
    "\n",
    "print(reverse_string2(\"Mouse\"))"
   ]
  },
  {
   "cell_type": "code",
   "execution_count": 36,
   "metadata": {},
   "outputs": [
    {
     "name": "stdout",
     "output_type": "stream",
     "text": [
      "Misney Dickey\n"
     ]
    }
   ],
   "source": [
    "# Spoonerism function\n",
    "def make_spoonerism(word1, word2):\n",
    "    new_word1 = word2[0] + word1[1:]\n",
    "    new_word2 = word1[0] + word2[1:] \n",
    "    return new_word1 + ' ' + new_word2\n",
    "print(make_spoonerism(\"Disney\", \"Mickey\"))\n"
   ]
  },
  {
   "cell_type": "code",
   "execution_count": 37,
   "metadata": {},
   "outputs": [
    {
     "name": "stdout",
     "output_type": "stream",
     "text": [
      "MickeyMouse!!!!!!!!!\n"
     ]
    }
   ],
   "source": [
    "# Function that adds exclamation points to the end of word until word is 20 characters long\n",
    "def add_exclamation(word):\n",
    "  if not (len(word) >= 20):\n",
    "    exclamations = 20 - len(word)\n",
    "    max_exclamations = '!!!!!!!!!!!!!!!!!!!!'\n",
    "    return word + max_exclamations[:exclamations]\n",
    "  else:\n",
    "    return word\n",
    "\n",
    "print(add_exclamation(\"MickeyMouse\"))\n"
   ]
  }
 ],
 "metadata": {
  "kernelspec": {
   "display_name": "Python 3",
   "language": "python",
   "name": "python3"
  },
  "language_info": {
   "codemirror_mode": {
    "name": "ipython",
    "version": 3
   },
   "file_extension": ".py",
   "mimetype": "text/x-python",
   "name": "python",
   "nbconvert_exporter": "python",
   "pygments_lexer": "ipython3",
   "version": "3.7.1"
  }
 },
 "nbformat": 4,
 "nbformat_minor": 2
}
