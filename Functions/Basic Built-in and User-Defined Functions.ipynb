{
 "cells": [
  {
   "cell_type": "markdown",
   "metadata": {},
   "source": [
    "### Basic Functions Excercises!\n",
    "\n",
    "- You can run this code in the Python interpreter by coding `python` or `python3`. I'm using jupter notebook for demonstrations purposes only :)\n",
    "- List of [Built-in functions](https://docs.python.org/3/library/functions.html) "
   ]
  },
  {
   "cell_type": "markdown",
   "metadata": {},
   "source": [
    "#### Budget Calculator"
   ]
  },
  {
   "cell_type": "code",
   "execution_count": 1,
   "metadata": {},
   "outputs": [
    {
     "name": "stdout",
     "output_type": "stream",
     "text": [
      "Your remaining budget is: $3500.75\n"
     ]
    }
   ],
   "source": [
    "# Let's imagine we have a budget and expense and we would lie to track the remaining budget \n",
    "\n",
    "# Creating the variables\n",
    "current_budget = 3500.75\n",
    "shirt_expense = 9 \n",
    "\n",
    "# Defining a budget function with one parameter and printing it \n",
    "def print_remaining_budget(budget):\n",
    "  print(\"Your remaining budget is: $\" + str(budget))\n",
    "\n",
    "print_remaining_budget(current_budget)"
   ]
  },
  {
   "cell_type": "code",
   "execution_count": 3,
   "metadata": {},
   "outputs": [
    {
     "name": "stdout",
     "output_type": "stream",
     "text": [
      "Your remaining budget is: $3,491.75\n"
     ]
    }
   ],
   "source": [
    "# Defining the expenses using function return \n",
    "def deduct_expense(budget, expense):\n",
    "  return budget - expense\n",
    "  \n",
    "# Adding format to the variable new_budget_after_shirt\n",
    "new_budget_after_shirt = \"{:,.2f}\".format(deduct_expense(current_budget, shirt_expense))\n",
    "\n",
    "print_remaining_budget(new_budget_after_shirt)"
   ]
  },
  {
   "cell_type": "code",
   "execution_count": 12,
   "metadata": {},
   "outputs": [
    {
     "name": "stdout",
     "output_type": "stream",
     "text": [
      "Welcome to tripplanner v1.0 Cynthia\n",
      "2.0\n"
     ]
    }
   ],
   "source": [
    "\n",
    "def trip_planner_welcome(name):\n",
    "  print('Welcome to tripplanner v1.0 '+ name)\n",
    "\n",
    "trip_planner_welcome('Cynthia')\n",
    "\n",
    "def estimated_time_rounded(estimated_time):\n",
    "  rounded_time = round(estimated_time, 0 )\n",
    "  return rounded_time\n",
    "\n",
    "estimate = estimated_time_rounded(1.7)\n",
    "print (estimate)"
   ]
  },
  {
   "cell_type": "markdown",
   "metadata": {},
   "source": [
    "#### Travel Planner\n",
    "\n",
    "- Adding complexity to the functions by adding more parameters"
   ]
  },
  {
   "cell_type": "code",
   "execution_count": 16,
   "metadata": {},
   "outputs": [
    {
     "name": "stdout",
     "output_type": "stream",
     "text": [
      "Welcome to yout trip Cyn\n",
      "Your trip starts off in Japan\n",
      "And you are traveling to Miami \n",
      "You will be traveling by Airplane\n",
      "It will take approximately 20 hours\n"
     ]
    }
   ],
   "source": [
    "def trip_planner_welcome(name): \n",
    "  print(\"Welcome to yout trip \" + name)\n",
    "\n",
    "trip_planner_welcome(\"Cyn\")\n",
    "\n",
    "def estimated_time_rounded(estimated_time):\n",
    "  rounded_time = round(estimated_time)\n",
    "  return rounded_time\n",
    "\n",
    "estimate = estimated_time_rounded(20.5)\n",
    "\n",
    "def destination_setup(origin, destination, estimated_time, mode_of_transport=\"Car\"):\n",
    "  print(\"Your trip starts off in \" + origin)\n",
    "  print(\"And you are traveling to \" + destination)\n",
    "  print(\"You will be traveling by \" + mode_of_transport)\n",
    "  print(\"It will take approximately \" + str(estimated_time) + \" hours\")\n",
    "\n",
    "\n",
    "destination_setup(\"Japan\", \"Miami \", estimate, \"Airplane\")"
   ]
  },
  {
   "cell_type": "code",
   "execution_count": 17,
   "metadata": {},
   "outputs": [
    {
     "name": "stdout",
     "output_type": "stream",
     "text": [
      "Beginning of report\n",
      "The current time is 3pm\n",
      "The mood is good\n"
     ]
    }
   ],
   "source": [
    "time = \"3pm\"\n",
    "mood = \"good\"\n",
    " \n",
    "def report():\n",
    "  print(\"The current time is \" + time)\n",
    "  print(\"The mood is \" + mood)\n",
    " \n",
    "print(\"Beginning of report\")\n",
    " \n",
    "report()"
   ]
  },
  {
   "cell_type": "markdown",
   "metadata": {},
   "source": [
    "#### Using a function based on a list"
   ]
  },
  {
   "cell_type": "code",
   "execution_count": 24,
   "metadata": {},
   "outputs": [
    {
     "data": {
      "text/plain": [
       "4"
      ]
     },
     "execution_count": 24,
     "metadata": {},
     "output_type": "execute_result"
    }
   ],
   "source": [
    "# Creating a function that returns the sum of the first and last elements of a given list\n",
    "\n",
    "def first_plus_last(lst):\n",
    "  return lst[0] + lst[-1]\n",
    "\n",
    "first_plus_last([1, 2, 3])"
   ]
  },
  {
   "cell_type": "code",
   "execution_count": 25,
   "metadata": {},
   "outputs": [
    {
     "data": {
      "text/plain": [
       "5"
      ]
     },
     "execution_count": 25,
     "metadata": {},
     "output_type": "execute_result"
    }
   ],
   "source": [
    "first_plus_last([0, 1, 100, 5])"
   ]
  },
  {
   "cell_type": "code",
   "execution_count": 26,
   "metadata": {},
   "outputs": [
    {
     "data": {
      "text/plain": [
       "39"
      ]
     },
     "execution_count": 26,
     "metadata": {},
     "output_type": "execute_result"
    }
   ],
   "source": [
    "first_plus_last([43, 2, 3, -4])"
   ]
  }
 ],
 "metadata": {
  "kernelspec": {
   "display_name": "Python 3",
   "language": "python",
   "name": "python3"
  },
  "language_info": {
   "codemirror_mode": {
    "name": "ipython",
    "version": 3
   },
   "file_extension": ".py",
   "mimetype": "text/x-python",
   "name": "python",
   "nbconvert_exporter": "python",
   "pygments_lexer": "ipython3",
   "version": "3.7.1"
  }
 },
 "nbformat": 4,
 "nbformat_minor": 2
}
