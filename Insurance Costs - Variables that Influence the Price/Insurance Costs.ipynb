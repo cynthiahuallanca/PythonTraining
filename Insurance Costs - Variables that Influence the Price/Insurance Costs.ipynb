{
 "cells": [
  {
   "cell_type": "markdown",
   "metadata": {},
   "source": [
    "## Insurance Costs - Basic Python code and function improvement\n",
    "\n",
    "- Database from [Kaggle](https://www.kaggle.com/mirichoi0218/insurance)\n",
    "- Objective: To discover how medical costs vary based on different variables like gender, age, if it's smoker and others. \n",
    "* Please be aware that the dataset used does not incorporates other gender than male or female and this is an important variable that companies should include now to consider LGTB communities and the freedom of expression declared on the First Amendment to the United States Constitution. \n",
    "- Note I'm doing baby steps in these excercises, so you'll find a more efficient way to do it down in the code (in case you are rolling your eyes when seeing how many times the formula is repeated! jeje ) "
   ]
  },
  {
   "cell_type": "code",
   "execution_count": 1,
   "metadata": {},
   "outputs": [],
   "source": [
    "# Import libraries\n",
    "import pandas as pd"
   ]
  },
  {
   "cell_type": "code",
   "execution_count": 2,
   "metadata": {},
   "outputs": [
    {
     "data": {
      "text/html": [
       "<div>\n",
       "<style scoped>\n",
       "    .dataframe tbody tr th:only-of-type {\n",
       "        vertical-align: middle;\n",
       "    }\n",
       "\n",
       "    .dataframe tbody tr th {\n",
       "        vertical-align: top;\n",
       "    }\n",
       "\n",
       "    .dataframe thead th {\n",
       "        text-align: right;\n",
       "    }\n",
       "</style>\n",
       "<table border=\"1\" class=\"dataframe\">\n",
       "  <thead>\n",
       "    <tr style=\"text-align: right;\">\n",
       "      <th></th>\n",
       "      <th>age</th>\n",
       "      <th>sex</th>\n",
       "      <th>bmi</th>\n",
       "      <th>children</th>\n",
       "      <th>smoker</th>\n",
       "      <th>region</th>\n",
       "      <th>charges</th>\n",
       "    </tr>\n",
       "  </thead>\n",
       "  <tbody>\n",
       "    <tr>\n",
       "      <th>0</th>\n",
       "      <td>19</td>\n",
       "      <td>female</td>\n",
       "      <td>27.900</td>\n",
       "      <td>0</td>\n",
       "      <td>yes</td>\n",
       "      <td>southwest</td>\n",
       "      <td>16884.92400</td>\n",
       "    </tr>\n",
       "    <tr>\n",
       "      <th>1</th>\n",
       "      <td>18</td>\n",
       "      <td>male</td>\n",
       "      <td>33.770</td>\n",
       "      <td>1</td>\n",
       "      <td>no</td>\n",
       "      <td>southeast</td>\n",
       "      <td>1725.55230</td>\n",
       "    </tr>\n",
       "    <tr>\n",
       "      <th>2</th>\n",
       "      <td>28</td>\n",
       "      <td>male</td>\n",
       "      <td>33.000</td>\n",
       "      <td>3</td>\n",
       "      <td>no</td>\n",
       "      <td>southeast</td>\n",
       "      <td>4449.46200</td>\n",
       "    </tr>\n",
       "    <tr>\n",
       "      <th>3</th>\n",
       "      <td>33</td>\n",
       "      <td>male</td>\n",
       "      <td>22.705</td>\n",
       "      <td>0</td>\n",
       "      <td>no</td>\n",
       "      <td>northwest</td>\n",
       "      <td>21984.47061</td>\n",
       "    </tr>\n",
       "    <tr>\n",
       "      <th>4</th>\n",
       "      <td>32</td>\n",
       "      <td>male</td>\n",
       "      <td>28.880</td>\n",
       "      <td>0</td>\n",
       "      <td>no</td>\n",
       "      <td>northwest</td>\n",
       "      <td>3866.85520</td>\n",
       "    </tr>\n",
       "  </tbody>\n",
       "</table>\n",
       "</div>"
      ],
      "text/plain": [
       "   age     sex     bmi  children smoker     region      charges\n",
       "0   19  female  27.900         0    yes  southwest  16884.92400\n",
       "1   18    male  33.770         1     no  southeast   1725.55230\n",
       "2   28    male  33.000         3     no  southeast   4449.46200\n",
       "3   33    male  22.705         0     no  northwest  21984.47061\n",
       "4   32    male  28.880         0     no  northwest   3866.85520"
      ]
     },
     "execution_count": 2,
     "metadata": {},
     "output_type": "execute_result"
    }
   ],
   "source": [
    "# Read the dataset\n",
    "df = pd.read_csv(\"Dataset/insurance.csv\")\n",
    "df.head()"
   ]
  },
  {
   "cell_type": "code",
   "execution_count": 3,
   "metadata": {},
   "outputs": [],
   "source": [
    "# Initial variables\n",
    "age = 28\n",
    "sex = 0 # 0 for female, 1 for male*\n",
    "bmi = 26.2\n",
    "num_of_children = 3\n",
    "smoker = 0 #0 for a non-smoker, 1 for a smoker"
   ]
  },
  {
   "cell_type": "code",
   "execution_count": 4,
   "metadata": {},
   "outputs": [
    {
     "name": "stdout",
     "output_type": "stream",
     "text": [
      "This person insurance cost is: $ 5469.0  dollars\n"
     ]
    }
   ],
   "source": [
    "# Insurance estimate formula below (formula taken from Code Academy records)\n",
    "insurance_cost = 250 * age - 128 * sex + 370 * bmi + 425 * num_of_children + 24000 * smoker - 12500\n",
    "\n",
    "print ('This person insurance cost is: $', insurance_cost,' dollars')\n"
   ]
  },
  {
   "cell_type": "code",
   "execution_count": 5,
   "metadata": {},
   "outputs": [
    {
     "name": "stdout",
     "output_type": "stream",
     "text": [
      "The change in cost of insurance after increasing the age by 4 years is $ 1000.0 dollars.\n"
     ]
    }
   ],
   "source": [
    "# Age Factor\n",
    "age += 4\n",
    "\n",
    "new_insurance_cost = 250 * age - 128 * sex + 370 * bmi + 425 * num_of_children + 24000 * smoker - 12500\n",
    "change_in_insurance_cost = new_insurance_cost - insurance_cost\n",
    "\n",
    "print('The change in cost of insurance after increasing the age by 4 years is $', change_in_insurance_cost, 'dollars.' ) "
   ]
  },
  {
   "cell_type": "code",
   "execution_count": 6,
   "metadata": {},
   "outputs": [
    {
     "name": "stdout",
     "output_type": "stream",
     "text": [
      "The change in estimated insurance cost after increasing BMI by 3.1 is -4453.0  dollars.\n"
     ]
    }
   ],
   "source": [
    "# BMI Factor\n",
    "age = 28\n",
    "bmi += 3.1\n",
    "\n",
    "new_insurance_cost = 50 * age - 128 * sex + 370 * bmi + 425 * num_of_children + 24000 * smoker - 12500\n",
    "change_in_insurance_cost = new_insurance_cost - insurance_cost\n",
    "\n",
    "print ('The change in estimated insurance cost after increasing BMI by 3.1 is',change_in_insurance_cost,' dollars.')"
   ]
  },
  {
   "cell_type": "code",
   "execution_count": 7,
   "metadata": {},
   "outputs": [
    {
     "name": "stdout",
     "output_type": "stream",
     "text": [
      "The change in estimated cost for being male instead of female is $-5728.0dollars.\n"
     ]
    }
   ],
   "source": [
    "# Male vs. Female Factor\n",
    "bmi= 26.2\n",
    "sex = 1 #1 identifies male individuals and 0 identifies female individuals.\n",
    "\n",
    "new_insurance_cost = 50 * age - 128 * sex + 370 * bmi + 425 * num_of_children + 24000 * smoker - 12500\n",
    "\n",
    "change_in_insurance_cost = new_insurance_cost - insurance_cost\n",
    "\n",
    "# Notice the negative value as output for this code whoch could mean that men have lower insurance rates than women\n",
    "print('The change in estimated cost for being male instead of female is $' + str(change_in_insurance_cost) + 'dollars.')"
   ]
  },
  {
   "cell_type": "code",
   "execution_count": 8,
   "metadata": {},
   "outputs": [
    {
     "name": "stdout",
     "output_type": "stream",
     "text": [
      "The change in estimated cost for being smoker is $18272.0 dollars.\n"
     ]
    }
   ],
   "source": [
    "# Smoker Factor\n",
    "smoker = 1 \n",
    "new_insurance_cost = 50 * age - 128 * sex + 370 * bmi + 425 * num_of_children + 24000 * smoker - 12500\n",
    "\n",
    "change_in_insurance_cost = new_insurance_cost - insurance_cost\n",
    "\n",
    "print('The change in estimated cost for being smoker is $' + str(change_in_insurance_cost) + ' dollars.')"
   ]
  },
  {
   "cell_type": "code",
   "execution_count": 9,
   "metadata": {},
   "outputs": [
    {
     "name": "stdout",
     "output_type": "stream",
     "text": [
      "The change in estimated cost for not having childrens being a woman is $17125.0 dollars.\n"
     ]
    }
   ],
   "source": [
    "# Childrens Factor\n",
    "num_of_children = 0\n",
    "sex = 0\n",
    "\n",
    "new_insurance_cost = 50 * age - 128 * sex + 370 * bmi + 425 * num_of_children + 24000 * smoker - 12500\n",
    "change_in_insurance_cost = new_insurance_cost - insurance_cost\n",
    "\n",
    "print('The change in estimated cost for not having childrens being a woman is $' + str(change_in_insurance_cost) + ' dollars.')"
   ]
  },
  {
   "cell_type": "markdown",
   "metadata": {},
   "source": [
    "### Making the code more efficient\n",
    "\n",
    "We can create a function to calculate the insurance cost and go from there... sky is the limit! \n",
    "Notice we dont need to repea a thousand times the formula -yay!"
   ]
  },
  {
   "cell_type": "code",
   "execution_count": 1,
   "metadata": {},
   "outputs": [
    {
     "name": "stdout",
     "output_type": "stream",
     "text": [
      "The estimated insurance cost for Pamela is 5469.0 dollars\n",
      "The estimated insurance cost for Edgardo is 28336.0 dollars\n",
      "The estimated insurance cost for Cyn is 5805 dollars\n"
     ]
    }
   ],
   "source": [
    "# Creating new insurance cost function \n",
    "def calculate_insurance_cost(age, sex, bmi, num_of_children, smoker, name):\n",
    "  estimated_cost = 250*age - 128*sex + 370*bmi + 425*num_of_children + 24000*smoker - 12500\n",
    "  print(\"The estimated insurance cost for \" + name + \" is \" + str(estimated_cost) + \" dollars\")\n",
    "\n",
    "# Estimating Pamela's insurance cost\n",
    "pamela_insurance_cost  = calculate_insurance_cost (28, 0,26.2, 3, 0, \"Pamela\")\n",
    "\n",
    "\n",
    "# Estimate Edgardo's insurance cost \n",
    "edgardo_insurance_cost  = calculate_insurance_cost (35, 1,22.2, 0, 1, \"Edgardo\")\n",
    "\n",
    "# My insurance Cost\n",
    "cyn_insurance_cost  = calculate_insurance_cost (36, 0,24, 1, 0, \"Cyn\")\n"
   ]
  },
  {
   "cell_type": "markdown",
   "metadata": {},
   "source": [
    "### Using Control Flow in this insurance excersie!"
   ]
  },
  {
   "cell_type": "code",
   "execution_count": 2,
   "metadata": {},
   "outputs": [
    {
     "name": "stdout",
     "output_type": "stream",
     "text": [
      "Cyn's Estimated Insurance Cost: 625 dollars.\n",
      "Smoking is not an issue for you.\n",
      "Your BMI is in the underweight range. Increasing your BMI will not help lower your cost, but it will help improve your health.\n",
      ".. Why don't you think about healthy ways to increae your bmi in 8.5 points?\n"
     ]
    }
   ],
   "source": [
    "# Adding a few functions to give the user more insights about their current health\n",
    "def analyze_smoker(smoker_status):\n",
    "  if smoker_status == 1:\n",
    "    print('To lower your cost, you should consider quitting smoking.')\n",
    "  else:\n",
    "    print(\"Smoking is not an issue for you.\")\n",
    "\n",
    "def healthy_bmi(current_bmi):\n",
    "  if current_bmi >= 25:\n",
    "    healthy_bmi = round(current_bmi - 18.5,2)\n",
    "    print(\"And you should consider to lower your bmi in \" + str(healthy_bmi) + \" points\")\n",
    "  elif current_bmi < 18.5:\n",
    "    healthy_bmi = round(18.5 - current_bmi,2)\n",
    "    print(\".. Why don't you think about healthy ways to increae your bmi in \" + str(healthy_bmi) + \" points?\")\n",
    "\n",
    "def analyze_bmi(bmi_value):\n",
    "  if bmi_value > 30: \n",
    "    print(\"Your BMI is in the obese range. To lower your cost, you should significantly lower your BMI.\")\n",
    "    healthy_bmi(bmi_value)\n",
    "  elif bmi_value >= 25 and bmi_value <=30: \n",
    "    print (\"Your BMI is in the overweight range. To lower your cost, you should lower your BMI.\")\n",
    "    healthy_bmi(bmi_value)\n",
    "  elif bmi_value >= 18.5 and bmi_value < 25: \n",
    "    print (\"Your BMI is in a healthy range.\")\n",
    "  else:\n",
    "    print(\"Your BMI is in the underweight range. Increasing your BMI will not help lower your cost, but it will help improve your health.\")\n",
    "    healthy_bmi(bmi_value)\n",
    "\n",
    "\n",
    "\n",
    "# Function to estimate insurance cost:\n",
    "def estimate_insurance_cost(name, age, sex, bmi, num_of_children, smoker):\n",
    "  estimated_cost = 250*age - 128*sex + 370*bmi + 425*num_of_children + 24000*smoker - 12500\n",
    "  print(name + \"'s Estimated Insurance Cost: \" + str(estimated_cost) + \" dollars.\")\n",
    "  analyze_smoker(smoker)\n",
    "  analyze_bmi(bmi)\n",
    "  return estimated_cost\n",
    "  \n",
    "# Playing with the estimations ! \n",
    "insurance_cost = estimate_insurance_cost(name = 'Cyn', age = 36, sex = 0, bmi = 10, num_of_children = 1, smoker = 0)"
   ]
  }
 ],
 "metadata": {
  "kernelspec": {
   "display_name": "Python 3",
   "language": "python",
   "name": "python3"
  },
  "language_info": {
   "codemirror_mode": {
    "name": "ipython",
    "version": 3
   },
   "file_extension": ".py",
   "mimetype": "text/x-python",
   "name": "python",
   "nbconvert_exporter": "python",
   "pygments_lexer": "ipython3",
   "version": "3.7.1"
  }
 },
 "nbformat": 4,
 "nbformat_minor": 2
}
