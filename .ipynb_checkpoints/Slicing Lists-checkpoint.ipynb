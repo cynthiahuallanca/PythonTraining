{
 "cells": [
  {
   "cell_type": "markdown",
   "metadata": {},
   "source": [
    "#### List Functions!\n"
   ]
  },
  {
   "cell_type": "code",
   "execution_count": 1,
   "metadata": {},
   "outputs": [],
   "source": [
    "inventory = [\"twin bed\", \"twin bed\", \"headboard\", \"queen bed\", \"king bed\", \"dresser\", \"dresser\", \"table\", \"table\", \"nightstand\", \"nightstand\", \"king bed\", \"king bed\", \"twin bed\", \"twin bed\", \"sheets\", \"sheets\", \"pillow\", \"pillow\"]"
   ]
  },
  {
   "cell_type": "code",
   "execution_count": 3,
   "metadata": {},
   "outputs": [
    {
     "name": "stdout",
     "output_type": "stream",
     "text": [
      "19\n"
     ]
    }
   ],
   "source": [
    "# how many items are in the warehouse?\n",
    "inventory_len = len(inventory)\n",
    "print(inventory_len)"
   ]
  },
  {
   "cell_type": "code",
   "execution_count": 5,
   "metadata": {},
   "outputs": [
    {
     "name": "stdout",
     "output_type": "stream",
     "text": [
      "First element is: twin bed, and the last one is: pillow\n"
     ]
    }
   ],
   "source": [
    "# Select first and last  \n",
    "first = inventory[0]\n",
    "last = inventory[-1]\n",
    "\n",
    "print (\"First element is: \" + first + \", and the last one is: \" + last)"
   ]
  },
  {
   "cell_type": "code",
   "execution_count": 6,
   "metadata": {},
   "outputs": [
    {
     "name": "stdout",
     "output_type": "stream",
     "text": [
      "['headboard', 'queen bed', 'king bed', 'dresser']\n"
     ]
    }
   ],
   "source": [
    "# Selecting items starting at index 2 and up to index 6.\n",
    "inventory_2_6 = inventory[2:6]\n",
    "print(inventory_2_6)"
   ]
  },
  {
   "cell_type": "code",
   "execution_count": 8,
   "metadata": {},
   "outputs": [
    {
     "name": "stdout",
     "output_type": "stream",
     "text": [
      "['twin bed', 'twin bed', 'headboard']\n"
     ]
    }
   ],
   "source": [
    "# Selecting first 3 items\n",
    "first_3 = inventory[:3]\n",
    "print(first_3)"
   ]
  },
  {
   "cell_type": "code",
   "execution_count": 9,
   "metadata": {},
   "outputs": [
    {
     "name": "stdout",
     "output_type": "stream",
     "text": [
      "4\n"
     ]
    }
   ],
   "source": [
    "# How many 'twin bed's are?\n",
    "twin_beds = inventory.count('twin bed')\n",
    "print(twin_beds)"
   ]
  },
  {
   "cell_type": "code",
   "execution_count": 10,
   "metadata": {},
   "outputs": [
    {
     "name": "stdout",
     "output_type": "stream",
     "text": [
      "king bed\n"
     ]
    }
   ],
   "source": [
    "# Removing the 5th element in the inventory\n",
    "removed_item = inventory.pop(4)\n",
    "print(removed_item)"
   ]
  },
  {
   "cell_type": "code",
   "execution_count": 12,
   "metadata": {},
   "outputs": [
    {
     "name": "stdout",
     "output_type": "stream",
     "text": [
      "['twin bed', 'twin bed', 'headboard', 'queen bed', 'dresser', 'dresser', 'table', 'table', 'nightstand', 'nightstand', 'New item', 'New item', 'king bed', 'king bed', 'twin bed', 'twin bed', 'sheets', 'sheets', 'pillow', 'pillow']\n"
     ]
    }
   ],
   "source": [
    "# Adding new item and placing it as the 11th element in the list\n",
    "inventory.insert(10, \"New item\")\n",
    "print(inventory)"
   ]
  },
  {
   "cell_type": "code",
   "execution_count": 13,
   "metadata": {},
   "outputs": [
    {
     "name": "stdout",
     "output_type": "stream",
     "text": [
      "['New item', 'New item', 'dresser', 'dresser', 'headboard', 'king bed', 'king bed', 'nightstand', 'nightstand', 'pillow', 'pillow', 'queen bed', 'sheets', 'sheets', 'table', 'table', 'twin bed', 'twin bed', 'twin bed', 'twin bed']\n"
     ]
    }
   ],
   "source": [
    "# Sorting\n",
    "inventory.sort()\n",
    "print(inventory)"
   ]
  },
  {
   "cell_type": "code",
   "execution_count": 15,
   "metadata": {},
   "outputs": [
    {
     "data": {
      "text/plain": [
       "4"
      ]
     },
     "execution_count": 15,
     "metadata": {},
     "output_type": "execute_result"
    }
   ],
   "source": [
    "test = [2, 4, 6, 2, 3, 2, 1, 2]\n",
    "test.count(2)"
   ]
  }
 ],
 "metadata": {
  "kernelspec": {
   "display_name": "Python 3",
   "language": "python",
   "name": "python3"
  },
  "language_info": {
   "codemirror_mode": {
    "name": "ipython",
    "version": 3
   },
   "file_extension": ".py",
   "mimetype": "text/x-python",
   "name": "python",
   "nbconvert_exporter": "python",
   "pygments_lexer": "ipython3",
   "version": "3.7.1"
  }
 },
 "nbformat": 4,
 "nbformat_minor": 2
}
