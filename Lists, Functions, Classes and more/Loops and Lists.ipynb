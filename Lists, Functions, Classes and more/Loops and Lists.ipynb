{
 "cells": [
  {
   "cell_type": "markdown",
   "metadata": {},
   "source": [
    "Python Loops: Medical Insurance Estimates vs. Costs   "
   ]
  },
  {
   "cell_type": "code",
   "execution_count": 1,
   "metadata": {},
   "outputs": [],
   "source": [
    "# Example from CodeAcademy\n",
    "names = [\"Judith\", \"Abel\", \"Tyson\", \"Martha\", \"Beverley\", \"David\", \"Anabel\"]\n",
    "estimated_insurance_costs = [1000.0, 2000.0, 3000.0, 4000.0, 5000.0, 6000.0, 7000.0]\n",
    "actual_insurance_costs = [1100.0, 2200.0, 3300.0, 4400.0, 5500.0, 6600.0, 7700.0]"
   ]
  },
  {
   "cell_type": "code",
   "execution_count": 3,
   "metadata": {},
   "outputs": [
    {
     "name": "stdout",
     "output_type": "stream",
     "text": [
      "The total cost is $30800.0\n",
      "Average Insurance Cost: 4400.0\n"
     ]
    }
   ],
   "source": [
    "# Getting the average insurance cost each person paid \n",
    "total_cost = 0 \n",
    "\n",
    "# total_cost Option 1: For loop \n",
    "# for actual in actual_insurance_costs:\n",
    "#   total_cost += actual\n",
    "\n",
    "# total_cost Option 2: While loop\n",
    "i = 0 \n",
    "while i < len(actual_insurance_costs): \n",
    "  total_cost += actual_insurance_costs[i]\n",
    "  i += 1\n",
    "print(\"The total cost is $\" + str(total_cost))\n",
    "\n",
    "average_cost = total_cost/len(actual_insurance_costs)\n",
    "\n",
    "print(\"Average Insurance Cost: \" + str(average_cost))"
   ]
  },
  {
   "cell_type": "code",
   "execution_count": 4,
   "metadata": {},
   "outputs": [
    {
     "name": "stdout",
     "output_type": "stream",
     "text": [
      "The insurance cost for Judith is $1100.0 dollars.\n",
      "The insurance cost for Judith is below average for $3300.0 dollars.\n",
      "The insurance cost for Abel is $2200.0 dollars.\n",
      "The insurance cost for Abel is below average for $2200.0 dollars.\n",
      "The insurance cost for Tyson is $3300.0 dollars.\n",
      "The insurance cost for Tyson is below average for $1100.0 dollars.\n",
      "The insurance cost for Martha is $4400.0 dollars.\n",
      "The insurance cost for Martha is equal to the average.\n",
      "The insurance cost for Beverley is $5500.0 dollars.\n",
      "The insurance cost for Beverley is above average for $1100.0 dollars.\n",
      "The insurance cost for David is $6600.0 dollars.\n",
      "The insurance cost for David is above average for $2200.0 dollars.\n",
      "The insurance cost for Anabel is $7700.0 dollars.\n",
      "The insurance cost for Anabel is above average for $3300.0 dollars.\n"
     ]
    }
   ],
   "source": [
    "# Determining for each individual, if their insurance cost is above or below average and how far along\n",
    "for i in range(0, len(names)): \n",
    "  name = names[i]\n",
    "  insurance_cost = actual_insurance_costs[i]\n",
    "  delta = average_cost - insurance_cost \n",
    "  print(\"The insurance cost for \" + name + \" is $\" + str(insurance_cost) + \" dollars.\")\n",
    "  if insurance_cost > average_cost:\n",
    "    print(\"The insurance cost for \" + name + \" is above average for $\" + str(-delta) + \" dollars.\")\n",
    "  elif insurance_cost < average_cost:\n",
    "    print(\"The insurance cost for \" + name + \" is below average for $\" + str(delta) + \" dollars.\")\n",
    "  else: \n",
    "    print(\"The insurance cost for \" + name + \" is equal to the average.\")\n"
   ]
  },
  {
   "cell_type": "code",
   "execution_count": 6,
   "metadata": {},
   "outputs": [
    {
     "name": "stdout",
     "output_type": "stream",
     "text": [
      "[1100.0, 2200.0, 3300.0, 4400.0, 5500.0, 6600.0, 7700.0]\n"
     ]
    }
   ],
   "source": [
    "updated_estimated_costs = [estimated * 11/10 for estimated in estimated_insurance_costs ]\n",
    "\n",
    "print(updated_estimated_costs)"
   ]
  }
 ],
 "metadata": {
  "kernelspec": {
   "display_name": "Python 3",
   "language": "python",
   "name": "python3"
  },
  "language_info": {
   "codemirror_mode": {
    "name": "ipython",
    "version": 3
   },
   "file_extension": ".py",
   "mimetype": "text/x-python",
   "name": "python",
   "nbconvert_exporter": "python",
   "pygments_lexer": "ipython3",
   "version": "3.7.1"
  }
 },
 "nbformat": 4,
 "nbformat_minor": 2
}
