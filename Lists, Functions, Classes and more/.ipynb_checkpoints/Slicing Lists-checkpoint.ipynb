{
 "cells": [
  {
   "cell_type": "markdown",
   "metadata": {},
   "source": [
    "#### List Functions!\n"
   ]
  },
  {
   "cell_type": "code",
   "execution_count": 1,
   "metadata": {},
   "outputs": [],
   "source": [
    "inventory = [\"twin bed\", \"twin bed\", \"headboard\", \"queen bed\", \"king bed\", \"dresser\", \"dresser\", \"table\", \"table\", \"nightstand\", \"nightstand\", \"king bed\", \"king bed\", \"twin bed\", \"twin bed\", \"sheets\", \"sheets\", \"pillow\", \"pillow\"]"
   ]
  },
  {
   "cell_type": "code",
   "execution_count": 3,
   "metadata": {},
   "outputs": [
    {
     "name": "stdout",
     "output_type": "stream",
     "text": [
      "19\n"
     ]
    }
   ],
   "source": [
    "# how many items are in the warehouse?\n",
    "inventory_len = len(inventory)\n",
    "print(inventory_len)"
   ]
  },
  {
   "cell_type": "code",
   "execution_count": 5,
   "metadata": {},
   "outputs": [
    {
     "name": "stdout",
     "output_type": "stream",
     "text": [
      "First element is: twin bed, and the last one is: pillow\n"
     ]
    }
   ],
   "source": [
    "# Select first and last  \n",
    "first = inventory[0]\n",
    "last = inventory[-1]\n",
    "\n",
    "print (\"First element is: \" + first + \", and the last one is: \" + last)"
   ]
  },
  {
   "cell_type": "code",
   "execution_count": 6,
   "metadata": {},
   "outputs": [
    {
     "name": "stdout",
     "output_type": "stream",
     "text": [
      "['headboard', 'queen bed', 'king bed', 'dresser']\n"
     ]
    }
   ],
   "source": [
    "# Selecting items starting at index 2 and up to index 6.\n",
    "inventory_2_6 = inventory[2:6]\n",
    "print(inventory_2_6)"
   ]
  },
  {
   "cell_type": "code",
   "execution_count": 8,
   "metadata": {},
   "outputs": [
    {
     "name": "stdout",
     "output_type": "stream",
     "text": [
      "['twin bed', 'twin bed', 'headboard']\n"
     ]
    }
   ],
   "source": [
    "# Selecting first 3 items\n",
    "first_3 = inventory[:3]\n",
    "print(first_3)"
   ]
  },
  {
   "cell_type": "code",
   "execution_count": 9,
   "metadata": {},
   "outputs": [
    {
     "name": "stdout",
     "output_type": "stream",
     "text": [
      "4\n"
     ]
    }
   ],
   "source": [
    "# How many 'twin bed's are?\n",
    "twin_beds = inventory.count('twin bed')\n",
    "print(twin_beds)"
   ]
  },
  {
   "cell_type": "code",
   "execution_count": 10,
   "metadata": {},
   "outputs": [
    {
     "name": "stdout",
     "output_type": "stream",
     "text": [
      "king bed\n"
     ]
    }
   ],
   "source": [
    "# Removing the 5th element in the inventory\n",
    "removed_item = inventory.pop(4)\n",
    "print(removed_item)"
   ]
  },
  {
   "cell_type": "code",
   "execution_count": 12,
   "metadata": {},
   "outputs": [
    {
     "name": "stdout",
     "output_type": "stream",
     "text": [
      "['twin bed', 'twin bed', 'headboard', 'queen bed', 'dresser', 'dresser', 'table', 'table', 'nightstand', 'nightstand', 'New item', 'New item', 'king bed', 'king bed', 'twin bed', 'twin bed', 'sheets', 'sheets', 'pillow', 'pillow']\n"
     ]
    }
   ],
   "source": [
    "# Adding new item and placing it as the 11th element in the list\n",
    "inventory.insert(10, \"New item\")\n",
    "print(inventory)"
   ]
  },
  {
   "cell_type": "code",
   "execution_count": 13,
   "metadata": {},
   "outputs": [
    {
     "name": "stdout",
     "output_type": "stream",
     "text": [
      "['New item', 'New item', 'dresser', 'dresser', 'headboard', 'king bed', 'king bed', 'nightstand', 'nightstand', 'pillow', 'pillow', 'queen bed', 'sheets', 'sheets', 'table', 'table', 'twin bed', 'twin bed', 'twin bed', 'twin bed']\n"
     ]
    }
   ],
   "source": [
    "# Sorting\n",
    "inventory.sort()\n",
    "print(inventory)"
   ]
  },
  {
   "cell_type": "code",
   "execution_count": 15,
   "metadata": {},
   "outputs": [
    {
     "data": {
      "text/plain": [
       "4"
      ]
     },
     "execution_count": 15,
     "metadata": {},
     "output_type": "execute_result"
    }
   ],
   "source": [
    "test = [2, 4, 6, 2, 3, 2, 1, 2]\n",
    "test.count(2)"
   ]
  },
  {
   "cell_type": "markdown",
   "metadata": {},
   "source": [
    "### Insurance Costs and Lists\n",
    "We have stored a name and insurance costs lists. "
   ]
  },
  {
   "cell_type": "code",
   "execution_count": 2,
   "metadata": {},
   "outputs": [
    {
     "name": "stdout",
     "output_type": "stream",
     "text": [
      "[13262.0, 4816.0, 6839.0, 5054.0, 14724.0, 5360.0, 7640.0, 6072.0, 2750.0, 12064.0, 8320]\n"
     ]
    }
   ],
   "source": [
    "#  Random example\n",
    "names = [\"Mohamed\", \"Sara\", \"Xia\", \"Paul\", \"Valentina\", \"Jide\", \"Aaron\", \"Emily\", \"Nikita\", \"Paul\"]\n",
    "insurance_costs = [13262.0, 4816.0, 6839.0, 5054.0, 14724.0, 5360.0, 7640.0, 6072.0, 2750.0, 12064.0]\n",
    "\n",
    "# Adding a new person \n",
    "names.append(\"Priscilla\")\n",
    "insurance_costs.append(8320)\n",
    "\n",
    "print(insurance_costs)"
   ]
  },
  {
   "cell_type": "code",
   "execution_count": 3,
   "metadata": {},
   "outputs": [
    {
     "name": "stdout",
     "output_type": "stream",
     "text": [
      "[('Mohamed', 13262.0), ('Sara', 4816.0), ('Xia', 6839.0), ('Paul', 5054.0), ('Valentina', 14724.0), ('Jide', 5360.0), ('Aaron', 7640.0), ('Emily', 6072.0), ('Nikita', 2750.0), ('Paul', 12064.0), ('Priscilla', 8320)]\n"
     ]
    }
   ],
   "source": [
    "# Currently, the names and insurance costs lists are separate, but we can actually look at them together! \n",
    "medical_records = list(zip(names, insurance_costs))\n",
    "print(medical_records)"
   ]
  },
  {
   "cell_type": "code",
   "execution_count": 4,
   "metadata": {},
   "outputs": [
    {
     "name": "stdout",
     "output_type": "stream",
     "text": [
      "There are 11 medical records\n"
     ]
    }
   ],
   "source": [
    "# How many medical records we have?\n",
    "num_medical_records  = len(medical_records)\n",
    "print(\"There are\", num_medical_records, \"medical records\")"
   ]
  },
  {
   "cell_type": "code",
   "execution_count": 5,
   "metadata": {},
   "outputs": [
    {
     "name": "stdout",
     "output_type": "stream",
     "text": [
      "Here is the first medical record: ('Mohamed', 13262.0)\n"
     ]
    }
   ],
   "source": [
    "# Saving first medical record in a new variable\n",
    "first_medical_record = medical_records[0]\n",
    "print(\"Here is the first medical record:\", first_medical_record)"
   ]
  },
  {
   "cell_type": "code",
   "execution_count": 6,
   "metadata": {},
   "outputs": [
    {
     "name": "stdout",
     "output_type": "stream",
     "text": [
      "Here are the medical records sorted by insurance cost:  [('Nikita', 2750.0), ('Sara', 4816.0), ('Paul', 5054.0), ('Jide', 5360.0), ('Emily', 6072.0), ('Xia', 6839.0), ('Aaron', 7640.0), ('Priscilla', 8320), ('Paul', 12064.0), ('Mohamed', 13262.0), ('Valentina', 14724.0)]\n"
     ]
    }
   ],
   "source": [
    "# If we would like to sort the list by insrance cost (ascending) we would have a few different options.. \n",
    "# Function to sort the list by second item of tuple\n",
    "def sort_tuple(tup): \n",
    "  tup.sort(key = lambda x: x[1]) \n",
    "  return tup\n",
    "print (\"Here are the medical records sorted by insurance cost: \", sort_tuple(medical_records))"
   ]
  },
  {
   "cell_type": "code",
   "execution_count": 7,
   "metadata": {},
   "outputs": [
    {
     "name": "stdout",
     "output_type": "stream",
     "text": [
      "Here are the three cheapest insurance costs in our medical records: [('Nikita', 2750.0), ('Sara', 4816.0), ('Paul', 5054.0)]\n",
      "Here are the three most expensive insurance costs in our medical records: [('Paul', 12064.0), ('Mohamed', 13262.0), ('Valentina', 14724.0)]\n",
      "There are 2 individuals with the name Paul in our medical records.\n"
     ]
    }
   ],
   "source": [
    "# Cheapest and 3 more expensives insurance costs\n",
    "cheapest_three = medical_records[:3] \n",
    "print('Here are the three cheapest insurance costs in our medical records:', cheapest_three)\n",
    "\n",
    "priciest_three = medical_records[-3:] \n",
    "print('Here are the three most expensive insurance costs in our medical records:', priciest_three)\n",
    "\n",
    "occurrences_paul = names.count(\"Paul\")\n",
    "print(\"There are\",occurrences_paul, \"individuals with the name Paul in our medical records.\")"
   ]
  }
 ],
 "metadata": {
  "kernelspec": {
   "display_name": "Python 3",
   "language": "python",
   "name": "python3"
  },
  "language_info": {
   "codemirror_mode": {
    "name": "ipython",
    "version": 3
   },
   "file_extension": ".py",
   "mimetype": "text/x-python",
   "name": "python",
   "nbconvert_exporter": "python",
   "pygments_lexer": "ipython3",
   "version": "3.7.1"
  }
 },
 "nbformat": 4,
 "nbformat_minor": 2
}
