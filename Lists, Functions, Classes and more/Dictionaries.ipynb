{
 "cells": [
  {
   "cell_type": "code",
   "execution_count": 1,
   "metadata": {},
   "outputs": [
    {
     "name": "stdout",
     "output_type": "stream",
     "text": [
      "Women make up 28 percent of CEOs.\n",
      "Women make up 9 percent of Engineering Managers.\n",
      "Women make up 58 percent of Pharmacists.\n",
      "Women make up 40 percent of Physicians.\n",
      "Women make up 37 percent of Lawyers.\n",
      "Women make up 9 percent of Aerospace Engineers.\n"
     ]
    }
   ],
   "source": [
    "pct_women_in_occupation = {\"CEO\": 28, \"Engineering Manager\": 9, \"Pharmacist\": 58, \"Physician\": 40, \n",
    "                           \"Lawyer\": 37, \"Aerospace Engineer\": 9}\n",
    "\n",
    "for key, value in pct_women_in_occupation.items():\n",
    "  print('Women make up ' + str(value) + ' percent of ' + key + 's.')"
   ]
  },
  {
   "cell_type": "code",
   "execution_count": 2,
   "metadata": {},
   "outputs": [
    {
     "name": "stdout",
     "output_type": "stream",
     "text": [
      "Your past is the Death card.\n",
      "Your present is the The Fool card.\n",
      "Your future is the Wheel of Fortune card.\n"
     ]
    }
   ],
   "source": [
    "tarot = { 1:\t\"The Magician\", 2:\t\"The High Priestess\", 3:\t\"The Empress\", 4:\t\"The Emperor\",\n",
    "         5:\t\"The Hierophant\", 6:\t\"The Lovers\", 7:\t\"The Chariot\", 8:\t\"Strength\", 9:\t\"The Hermit\", \n",
    "         10:\t\"Wheel of Fortune\", 11:\t\"Justice\", 12:\t\"The Hanged Man\", 13:\t\"Death\", 14:\t\"Temperance\", \n",
    "         15:\t\"The Devil\", 16:\t\"The Tower\", 17:\t\"The Star\", 18:\t\"The Moon\", 19:\t\"The Sun\", 20:\t\"Judgement\", \n",
    "         21:\t\"The World\", 22: \"The Fool\"}\n",
    "\n",
    "spread = {}\n",
    "\n",
    "spread[\"past\"] = tarot.pop(13)\n",
    "spread[\"present\"] = tarot.pop(22)\n",
    "spread[\"future\"] = tarot.pop(10)\n",
    "\n",
    "for key, value in spread.items(): \n",
    "  print('Your ' + str(key) + ' is the ' + value + ' card.')\n",
    "\n"
   ]
  },
  {
   "cell_type": "code",
   "execution_count": 3,
   "metadata": {},
   "outputs": [
    {
     "name": "stdout",
     "output_type": "stream",
     "text": [
      "True\n"
     ]
    }
   ],
   "source": [
    "inventory = {\"iron spear\": 12, \"invisible knife\": 30, \"needle of ambition\": 10, \n",
    "             \"stone glove\": 20, \"the peacemaker\": 65, \"demonslayer\": 50}\n",
    " \n",
    "print(\"the peacemaker\" in inventory)"
   ]
  },
  {
   "cell_type": "code",
   "execution_count": 4,
   "metadata": {},
   "outputs": [
    {
     "name": "stdout",
     "output_type": "stream",
     "text": [
      "Best Picture\n",
      "Best Actor\n",
      "Best Actress\n",
      "Animated Feature\n"
     ]
    }
   ],
   "source": [
    "oscars = {\"Best Picture\": \"Moonlight\", \"Best Actor\": \"Casey Affleck\", \n",
    "          \"Best Actress\": \"Emma Stone\", \"Animated Feature\": \"Zootopia\"}\n",
    " \n",
    "for element in oscars:\n",
    "  print(element)"
   ]
  },
  {
   "cell_type": "code",
   "execution_count": 5,
   "metadata": {},
   "outputs": [
    {
     "name": "stdout",
     "output_type": "stream",
     "text": [
      "['hamburger', 'fries']\n"
     ]
    }
   ],
   "source": [
    "combo_meals = {1: [\"hamburger\", \"fries\"], 2: [\"hamburger\", \"fries\", \"soda\"], \n",
    "               4: [\"veggie burger\", \"salad\", \"soda\"], 6: [\"hot dog\", \"apple slices\", \"orange juice\"]}\n",
    "\n",
    "print(combo_meals.get(3, [\"hamburger\", \"fries\"]))"
   ]
  }
 ],
 "metadata": {
  "kernelspec": {
   "display_name": "Python 3",
   "language": "python",
   "name": "python3"
  },
  "language_info": {
   "codemirror_mode": {
    "name": "ipython",
    "version": 3
   },
   "file_extension": ".py",
   "mimetype": "text/x-python",
   "name": "python",
   "nbconvert_exporter": "python",
   "pygments_lexer": "ipython3",
   "version": "3.7.1"
  }
 },
 "nbformat": 4,
 "nbformat_minor": 2
}
